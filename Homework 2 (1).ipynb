{
 "cells": [
  {
   "cell_type": "code",
   "execution_count": 6,
   "metadata": {},
   "outputs": [
    {
     "name": "stdout",
     "output_type": "stream",
     "text": [
      "5.25 ms ± 219 µs per loop (mean ± std. dev. of 7 runs, 100 loops each)\n"
     ]
    }
   ],
   "source": [
    "L=range(10000)\n",
    "%timeit [i**2 for i in L]\n",
    "\n"
   ]
  },
  {
   "cell_type": "code",
   "execution_count": 7,
   "metadata": {},
   "outputs": [
    {
     "name": "stdout",
     "output_type": "stream",
     "text": [
      "10.7 µs ± 144 ns per loop (mean ± std. dev. of 7 runs, 100000 loops each)\n"
     ]
    }
   ],
   "source": [
    "import numpy as np\n",
    "L=np.arange(10000)\n",
    "%timeit L**2\n"
   ]
  },
  {
   "cell_type": "code",
   "execution_count": 8,
   "metadata": {},
   "outputs": [
    {
     "name": "stdout",
     "output_type": "stream",
     "text": [
      "<memory at 0x0000018122BB1708>\n",
      "(2, 5)\n",
      "int32\n",
      "(20, 4)\n"
     ]
    }
   ],
   "source": [
    "\n",
    "my_2d_array = np.arange(10).reshape((2, 5))\n",
    "\n",
    "# Print out memory address\n",
    "print(my_2d_array.data)\n",
    "\n",
    "# Print out the shape of `my_array`\n",
    "print(my_2d_array.shape)\n",
    "\n",
    "# Print out the data type of `my_array`\n",
    "print(my_2d_array.dtype)\n",
    "\n",
    "# Print out the stride of `my_array`\n",
    "print(my_2d_array.strides)\n",
    "\n",
    "    "
   ]
  },
  {
   "cell_type": "code",
   "execution_count": 9,
   "metadata": {},
   "outputs": [
    {
     "data": {
      "text/plain": [
       "array([[1, 0, 0],\n",
       "       [0, 2, 0],\n",
       "       [0, 0, 3]])"
      ]
     },
     "execution_count": 9,
     "metadata": {},
     "output_type": "execute_result"
    }
   ],
   "source": [
    "# Create an array of ones\n",
    "np.ones((3, 4))\n",
    "\n",
    "# Create an array of zeros\n",
    "np.zeros((2, 3, 4), dtype=np.int16)\n",
    "\n",
    "# Create an array with random values\n",
    "np.random.random((2, 2))\n",
    "\n",
    "# Create an empty array\n",
    "np.empty((3, 2))\n",
    "\n",
    "# Create a full array\n",
    "np.full((2, 2), 7)\n",
    "\n",
    "# Create an array of evenly-spaced values\n",
    "np.arange(10, 25, 5)\n",
    "\n",
    "# Create an array of evenly-spaced values\n",
    "np.linspace(0, 2, 9)\n",
    "\n",
    "# Create a diagonal matrix\n",
    "np.diag([1, 2, 3])\n",
    "\n"
   ]
  },
  {
   "cell_type": "code",
   "execution_count": 10,
   "metadata": {},
   "outputs": [
    {
     "name": "stdout",
     "output_type": "stream",
     "text": [
      "0 [3 9] [3 4 5 6 7 8 9] [6 7] [0 1 2 3 4 5 6]\n"
     ]
    }
   ],
   "source": [
    "a = np.arange(10)\n",
    "print(a[0], a[[3, -1]], a[3:], a[6: -2], a[:-3])"
   ]
  },
  {
   "cell_type": "code",
   "execution_count": 11,
   "metadata": {},
   "outputs": [
    {
     "name": "stdout",
     "output_type": "stream",
     "text": [
      "(3, 4) (4,)\n",
      "[[1. 1. 1. 1.]\n",
      " [1. 1. 1. 1.]\n",
      " [1. 1. 1. 1.]]\n",
      "[0.19154746 0.4263323  0.27913722 0.59322541]\n",
      "[[1.19154746 1.4263323  1.27913722 1.59322541]\n",
      " [1.19154746 1.4263323  1.27913722 1.59322541]\n",
      " [1.19154746 1.4263323  1.27913722 1.59322541]]\n"
     ]
    }
   ],
   "source": [
    "\n",
    "x = np.ones((3, 4))\n",
    "y = np.random.rand(4)\n",
    "\n",
    "# Add `x` and `y`. Note that `x` and `y` have different shapes.\n",
    "print(x.shape, y.shape)\n",
    "print(x)\n",
    "print(y)\n",
    "print(x + y)"
   ]
  },
  {
   "cell_type": "code",
   "execution_count": 12,
   "metadata": {
    "scrolled": true
   },
   "outputs": [
    {
     "data": {
      "text/plain": [
       "<Figure size 640x480 with 1 Axes>"
      ]
     },
     "metadata": {},
     "output_type": "display_data"
    }
   ],
   "source": [
    "import matplotlib.pyplot as plt\n",
    "\n",
    "plt.scatter(*np.random.randn(100, 2).T, c='r', label='First group')\n",
    "plt.scatter(*(2*np.random.randn(200, 2) + np.array([2, 4])).T, c='g', label='Second group')\n",
    "plt.scatter(*(np.random.randn(200, 2) + np.array([-2, 4])).T, c='b', label='Third group')\n",
    "plt.axis('equal')\n",
    "plt.legend()\n",
    "plt.show()"
   ]
  },
  {
   "cell_type": "markdown",
   "metadata": {},
   "source": [
    "Задание 1. Создайте двумерный массив 10x3, заполненный случайными значениями. В каждой строке выберите значение, наиболее близкое к 0.5.\n",
    "/\n"
   ]
  },
  {
   "cell_type": "code",
   "execution_count": 17,
   "metadata": {},
   "outputs": [
    {
     "name": "stdout",
     "output_type": "stream",
     "text": [
      "[[0.06432687 0.66208481 0.91591578]\n",
      " [0.64017925 0.01235002 0.47778056]\n",
      " [0.07699966 0.99612973 0.34996147]\n",
      " [0.26868208 0.68038067 0.72046353]\n",
      " [0.03559789 0.30349986 0.45042998]\n",
      " [0.35239953 0.81571346 0.29845925]\n",
      " [0.25040514 0.99237787 0.00459095]\n",
      " [0.3209171  0.14758089 0.14702507]\n",
      " [0.28096896 0.50765613 0.32744423]\n",
      " [0.30932381 0.43106227 0.77838846]]\n",
      "[0.66208481 0.47778056 0.34996147 0.68038067 0.45042998 0.35239953\n",
      " 0.25040514 0.3209171  0.50765613 0.43106227]\n"
     ]
    }
   ],
   "source": [
    "import numpy as np\n",
    "a = np.random.rand(10,3)\n",
    "print(a)\n",
    "print(a[np.arange(10), np.argmin(np.abs(a - 0.5), axis = 1)])\n"
   ]
  },
  {
   "cell_type": "markdown",
   "metadata": {},
   "source": [
    "Задача 2. Создайте двумерный массив 6x6, заполненный случайными значениями. Затем сумму по каждой строке поделите на минимальный элемент из столбца с тем же индексом."
   ]
  },
  {
   "cell_type": "code",
   "execution_count": 21,
   "metadata": {},
   "outputs": [
    {
     "name": "stdout",
     "output_type": "stream",
     "text": [
      "[[0.49292064 0.75771478 0.38891707 0.37823785 0.17372625 0.75386607]\n",
      " [0.48414088 0.75569139 0.35977748 0.87669117 0.21660633 0.44886936]\n",
      " [0.67385666 0.26459663 0.21784298 0.31003546 0.68537148 0.18967027]\n",
      " [0.32761649 0.07005236 0.27157613 0.92935444 0.50269714 0.40602485]\n",
      " [0.22864653 0.73555604 0.70021067 0.67330215 0.43446647 0.10536566]\n",
      " [0.89254899 0.14144998 0.34016753 0.92431678 0.03234176 0.42611499]]\n",
      "[12.88181658 44.84897569 10.74798702  8.0872084  88.97312721 26.16545076]\n"
     ]
    }
   ],
   "source": [
    "import numpy as np\n",
    "a = np.random.rand(6,6)\n",
    "print(a)\n",
    "print(np.sum(a, axis = 1)/np.min(a, axis = 0))"
   ]
  },
  {
   "cell_type": "markdown",
   "metadata": {},
   "source": [
    "Задача 3. На примере массива x = np.array([6, 2, 0, 3, 0, 0, 5, 7, 0]) найдите максимальный элемент в массиве среди элементов, перед которыми стоит ноль."
   ]
  },
  {
   "cell_type": "code",
   "execution_count": 25,
   "metadata": {},
   "outputs": [
    {
     "name": "stdout",
     "output_type": "stream",
     "text": [
      "[6 2 0 3 0 0 5 7 0]\n",
      "5\n"
     ]
    }
   ],
   "source": [
    "import numpy as np\n",
    "x = np.array([6, 2, 0, 3, 0, 0, 5, 7, 0])\n",
    "print(x)\n",
    "null = x == 0\n",
    "print(x[1:][null[:-1]].max())"
   ]
  },
  {
   "cell_type": "markdown",
   "metadata": {},
   "source": [
    "Задача 4. Пусть заданы два массива x = np.ones(10) и i = np.array([0, 1, 2, 3, 5, 5, 5, 8]). Прибавьте единицу к тем элементам массива x, индексы которых указаны в массиве i. В случае, если некоторый индекс встретился в массиве i несколько раз, прибавьте к соответствующему элементу массива x число вхождений данного индекса в массив i."
   ]
  },
  {
   "cell_type": "code",
   "execution_count": 26,
   "metadata": {},
   "outputs": [
    {
     "name": "stdout",
     "output_type": "stream",
     "text": [
      "[2. 2. 2. 2. 1. 4. 1. 1. 2. 1.]\n"
     ]
    }
   ],
   "source": [
    "x = np.ones(10) \n",
    "i = np.array([0, 1, 2, 3, 5, 5, 5, 8])\n",
    "print(x + np.bincount(i, minlength = len(x)));\n"
   ]
  },
  {
   "cell_type": "markdown",
   "metadata": {},
   "source": [
    "Задача 5. Написать функцию, реализующую алгоритм k-means. Входные и выходные значения функции должны быть аналогичны https://docs.scipy.org/doc/scipy-0.15.1/reference/generated/scipy.cluster.vq.kmeans.html. Функция должна содержать не более двух циклов while (for)."
   ]
  },
  {
   "cell_type": "code",
   "execution_count": 76,
   "metadata": {},
   "outputs": [],
   "source": [
    "import numpy as np\n",
    "from scipy.spatial import distance\n",
    "\n",
    "def kmeans(obs, k_or_guess, thresh = 0.000001):\n",
    "    if type(k_or_guess) == int and int(k_or_guess) > 0:\n",
    "        book = obs[np.random.choice(obs.shape[0], size = k_or_guess, replace = False)]\n",
    "    else:\n",
    "        book = k_or_guess\n",
    "        \n",
    "    prev_diff = 100000\n",
    "    cur_diff = np.mean(np.min(distance.cdist(obs, book, 'euclidean'), axis=1))\n",
    "    \n",
    "    while abs(prev_diff - cur_diff) > thresh:\n",
    "        book1 = np.empty(book.shape)\n",
    "        dist = distance.cdist(obs, book, 'euclidean')\n",
    "        tmp = np.hstack((obs, np.argmin(dist, axis = 1).reshape(len(dist),1)))\n",
    "        for i in range(len(book)):\n",
    "            book1[i] = np.vstack(row for row in tmp if row[-1] == i).mean(axis=0)[:-1]\n",
    "        book = book1   \n",
    "        prev_diff = cur_diff\n",
    "        cur_diff = np.mean(np.min(distance.cdist(obs, book, 'euclidean'), axis=1))\n",
    "        \n",
    "    return book, cur_diff\n",
    "        "
   ]
  },
  {
   "cell_type": "code",
   "execution_count": 108,
   "metadata": {},
   "outputs": [],
   "source": [
    "import numpy as np\n",
    "import matplotlib.pyplot as plt\n",
    "url = 'https://raw.githubusercontent.com/sharmaroshan/Clustering-of-Mall-Customers/master/Mall_Customers.csv'\n",
    "data = np.loadtxt(url, delimiter=',', dtype=object, skiprows=1)\n",
    "data[:, 1] = data[:, 1] == 'Male'\n",
    "data = data.astype(float) \n"
   ]
  },
  {
   "cell_type": "markdown",
   "metadata": {},
   "source": [
    "Задача 6.  С помощью реализованной функции kmeans выделить кластеры клиентов в разрезах возраст-доход, возрвст-покупательский индекс, доход-покупательский индекс. В каждом случае использовать elbow method для определения оптимального числа кластеров. Визуализировать полученные кластеры (каждый кластер изобразить собственным цветом). Дать интерпретацию полученным кластерам."
   ]
  },
  {
   "cell_type": "code",
   "execution_count": 118,
   "metadata": {},
   "outputs": [],
   "source": [
    "def num_clust(data, book): \n",
    "    k = len(book) \n",
    "    i = np.arange(0, k) \n",
    "    p = np.ones((k, len(data)))\n",
    "    p[i] = np.arange(0, len(data))\n",
    "    p = p.astype(int) \n",
    "    d1 = (data[p, 0] - book[i, 0].reshape(k, 1))**2\n",
    "    d2 = (data[p, 1] - book[i, 1].reshape(k, 1))**2\n",
    "    clust_num = ((d1 + d2)**(1/2)).argmin(axis = 0).astype(int)\n",
    "    clusters = []\n",
    "    for j in range(k):\n",
    "        clusters.append(data[clust_num == j])\n",
    "    return clusters"
   ]
  },
  {
   "cell_type": "markdown",
   "metadata": {},
   "source": [
    "Подходящее к = 3"
   ]
  },
  {
   "cell_type": "code",
   "execution_count": 120,
   "metadata": {},
   "outputs": [
    {
     "data": {
      "image/png": "[encoded data removed]",
      "text/plain": [
       "<Figure size 432x288 with 1 Axes>"
      ]
     },
     "metadata": {
      "needs_background": "light"
     },
     "output_type": "display_data"
    }
   ],
   "source": [
    "book, distortion = kmeans(data[:,[2,3]], 3)\n",
    "clusters = num_clust(data[:,[2,3]], book)\n",
    "plt.scatter(clusters[0][:,0], clusters[0][:,1], c='r', label='cluster 1')\n",
    "plt.scatter(clusters[1][:,0], clusters[1][:,1], c='g', label='cluster 2')\n",
    "plt.scatter(clusters[2][:,0], clusters[2][:,1], c='b', label='cluster 3')\n",
    "plt.legend()\n",
    "plt.xlabel('Age')\n",
    "plt.ylabel('Annual Income')\n",
    "plt.show()\n"
   ]
  },
  {
   "cell_type": "code",
   "execution_count": 111,
   "metadata": {},
   "outputs": [
    {
     "data": {
      "image/png": "[encoded data removed]",
      "text/plain": [
       "<Figure size 432x288 with 1 Axes>"
      ]
     },
     "metadata": {
      "needs_background": "light"
     },
     "output_type": "display_data"
    }
   ],
   "source": [
    "dist = []\n",
    "K = range(1,18)\n",
    "for k in K:\n",
    "    dist.append(kmeans(data[:,[2,4]], k)[1])\n",
    "    \n",
    "plt.plot(K, dist, 'o--', label='Elbow method')\n",
    "plt.legend()\n",
    "plt.xlabel('K')\n",
    "plt.ylabel('Distortion')\n",
    "plt.show()"
   ]
  },
  {
   "cell_type": "markdown",
   "metadata": {},
   "source": [
    "Подходящее к = 4"
   ]
  },
  {
   "cell_type": "code",
   "execution_count": 121,
   "metadata": {},
   "outputs": [
    {
     "data": {
      "image/png": "[encoded data removed]",
      "text/plain": [
       "<Figure size 432x288 with 1 Axes>"
      ]
     },
     "metadata": {
      "needs_background": "light"
     },
     "output_type": "display_data"
    }
   ],
   "source": [
    "book, distortion = kmeans(data[:,[2,4]], 4)\n",
    "clusters = num_clust(data[:,[2,4]], book)\n",
    "plt.scatter(clusters[0][:,0], clusters[0][:,1], c='r', label='cluster 1')\n",
    "plt.scatter(clusters[1][:,0], clusters[1][:,1], c='g', label='cluster 2')\n",
    "plt.scatter(clusters[2][:,0], clusters[2][:,1], c='b', label='cluster 3')\n",
    "plt.scatter(clusters[3][:,0], clusters[3][:,1], c='y', label='cluster 4')\n",
    "plt.legend()\n",
    "plt.xlabel('Age')\n",
    "plt.ylabel('Spending Score')\n",
    "plt.show()"
   ]
  },
  {
   "cell_type": "code",
   "execution_count": 113,
   "metadata": {},
   "outputs": [
    {
     "data": {
      "image/png": "[encoded data removed]",
      "text/plain": [
       "<Figure size 432x288 with 1 Axes>"
      ]
     },
     "metadata": {
      "needs_background": "light"
     },
     "output_type": "display_data"
    }
   ],
   "source": [
    "dist = []\n",
    "K = range(1,18)\n",
    "for k in K:\n",
    "    dist.append(kmeans(data[:,[3,4]], k)[1])\n",
    "    \n",
    "plt.plot(K, dist, 'o--', label='Elbow method')\n",
    "plt.legend()\n",
    "plt.xlabel('K')\n",
    "plt.ylabel('Distortion')\n",
    "plt.show()"
   ]
  },
  {
   "cell_type": "markdown",
   "metadata": {},
   "source": [
    "Подходящее к = 5"
   ]
  },
  {
   "cell_type": "code",
   "execution_count": 122,
   "metadata": {},
   "outputs": [
    {
     "data": {
      "image/png": "[encoded data removed]",
      "text/plain": [
       "<Figure size 432x288 with 1 Axes>"
      ]
     },
     "metadata": {
      "needs_background": "light"
     },
     "output_type": "display_data"
    }
   ],
   "source": [
    "book, distortion = kmeans(data[:,[3,4]], 5)\n",
    "clusters = num_clust(data[:,[3,4]], book)\n",
    "plt.scatter(clusters[0][:,0], clusters[0][:,1], c='r', label='cluster 1')\n",
    "plt.scatter(clusters[1][:,0], clusters[1][:,1], c='g', label='cluster 2')\n",
    "plt.scatter(clusters[2][:,0], clusters[2][:,1], c='b', label='cluster 3')\n",
    "plt.scatter(clusters[3][:,0], clusters[3][:,1], c='y', label='cluster 4')\n",
    "plt.scatter(clusters[4][:,0], clusters[4][:,1], c='c', label='cluster 5')\n",
    "plt.legend()\n",
    "plt.xlabel('Annual Income')\n",
    "plt.ylabel('Spending Score')\n",
    "plt.show()"
   ]
  }
 ],
 "metadata": {
  "kernelspec": {
   "display_name": "Python 3",
   "language": "python",
   "name": "python3"
  },
  "language_info": {
   "codemirror_mode": {
    "name": "ipython",
    "version": 3
   },
   "file_extension": ".py",
   "mimetype": "text/x-python",
   "name": "python",
   "nbconvert_exporter": "python",
   "pygments_lexer": "ipython3",
   "version": "3.7.0"
  }
 },
 "nbformat": 4,
 "nbformat_minor": 2
}
