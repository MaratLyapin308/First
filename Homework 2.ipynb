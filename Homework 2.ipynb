{
 "cells": [
  {
   "cell_type": "code",
   "execution_count": 2,
   "metadata": {},
   "outputs": [
    {
     "name": "stdout",
     "output_type": "stream",
     "text": [
      "5.23 ms ± 207 µs per loop (mean ± std. dev. of 7 runs, 100 loops each)\n"
     ]
    }
   ],
   "source": [
    "L=range(10000)\n",
    "%timeit [i**2 for i in L]\n",
    "\n"
   ]
  },
  {
   "cell_type": "code",
   "execution_count": 10,
   "metadata": {},
   "outputs": [
    {
     "name": "stdout",
     "output_type": "stream",
     "text": [
      "11 µs ± 279 ns per loop (mean ± std. dev. of 7 runs, 100000 loops each)\n"
     ]
    }
   ],
   "source": [
    "import numpy as np\n",
    "L=np.arange(10000)\n",
    "%timeit L**2\n"
   ]
  },
  {
   "cell_type": "code",
   "execution_count": 12,
   "metadata": {},
   "outputs": [
    {
     "name": "stdout",
     "output_type": "stream",
     "text": [
      "<memory at 0x00000246EBF852D0>\n",
      "(2, 5)\n",
      "int32\n",
      "(20, 4)\n"
     ]
    }
   ],
   "source": [
    "\n",
    "my_2d_array = np.arange(10).reshape((2, 5))\n",
    "\n",
    "# Print out memory address\n",
    "print(my_2d_array.data)\n",
    "\n",
    "# Print out the shape of `my_array`\n",
    "print(my_2d_array.shape)\n",
    "\n",
    "# Print out the data type of `my_array`\n",
    "print(my_2d_array.dtype)\n",
    "\n",
    "# Print out the stride of `my_array`\n",
    "print(my_2d_array.strides)\n",
    "\n",
    "    "
   ]
  },
  {
   "cell_type": "code",
   "execution_count": 13,
   "metadata": {},
   "outputs": [
    {
     "data": {
      "text/plain": [
       "array([[1, 0, 0],\n",
       "       [0, 2, 0],\n",
       "       [0, 0, 3]])"
      ]
     },
     "execution_count": 13,
     "metadata": {},
     "output_type": "execute_result"
    }
   ],
   "source": [
    "# Create an array of ones\n",
    "np.ones((3, 4))\n",
    "\n",
    "# Create an array of zeros\n",
    "np.zeros((2, 3, 4), dtype=np.int16)\n",
    "\n",
    "# Create an array with random values\n",
    "np.random.random((2, 2))\n",
    "\n",
    "# Create an empty array\n",
    "np.empty((3, 2))\n",
    "\n",
    "# Create a full array\n",
    "np.full((2, 2), 7)\n",
    "\n",
    "# Create an array of evenly-spaced values\n",
    "np.arange(10, 25, 5)\n",
    "\n",
    "# Create an array of evenly-spaced values\n",
    "np.linspace(0, 2, 9)\n",
    "\n",
    "# Create a diagonal matrix\n",
    "np.diag([1, 2, 3])\n",
    "\n"
   ]
  },
  {
   "cell_type": "code",
   "execution_count": 14,
   "metadata": {},
   "outputs": [
    {
     "name": "stdout",
     "output_type": "stream",
     "text": [
      "0 [3 9] [3 4 5 6 7 8 9] [6 7] [0 1 2 3 4 5 6]\n"
     ]
    }
   ],
   "source": [
    "a = np.arange(10)\n",
    "print(a[0], a[[3, -1]], a[3:], a[6: -2], a[:-3])"
   ]
  },
  {
   "cell_type": "code",
   "execution_count": 16,
   "metadata": {},
   "outputs": [
    {
     "name": "stdout",
     "output_type": "stream",
     "text": [
      "(3, 4) (4,)\n",
      "[[1. 1. 1. 1.]\n",
      " [1. 1. 1. 1.]\n",
      " [1. 1. 1. 1.]]\n",
      "[0.87069869 0.79726064 0.22423962 0.56294643]\n",
      "[[1.87069869 1.79726064 1.22423962 1.56294643]\n",
      " [1.87069869 1.79726064 1.22423962 1.56294643]\n",
      " [1.87069869 1.79726064 1.22423962 1.56294643]]\n"
     ]
    }
   ],
   "source": [
    "\n",
    "x = np.ones((3, 4))\n",
    "y = np.random.rand(4)\n",
    "\n",
    "# Add `x` and `y`. Note that `x` and `y` have different shapes.\n",
    "print(x.shape, y.shape)\n",
    "print(x)\n",
    "print(y)\n",
    "print(x + y)"
   ]
  },
  {
   "cell_type": "code",
   "execution_count": 54,
   "metadata": {
    "scrolled": true
   },
   "outputs": [
    {
     "data": {
      "image/png": "[encoded data removed]",
      "text/plain": [
       "<Figure size 432x288 with 1 Axes>"
      ]
     },
     "metadata": {
      "needs_background": "light"
     },
     "output_type": "display_data"
    }
   ],
   "source": [
    "import matplotlib.pyplot as plt\n",
    "\n",
    "plt.scatter(*np.random.randn(100, 2).T, c='r', label='First group')\n",
    "plt.scatter(*(2*np.random.randn(200, 2) + np.array([2, 4])).T, c='g', label='Second group')\n",
    "plt.scatter(*(np.random.randn(200, 2) + np.array([-2, 4])).T, c='b', label='Third group')\n",
    "plt.axis('equal')\n",
    "plt.legend()\n",
    "plt.show()"
   ]
  },
  {
   "cell_type": "markdown",
   "metadata": {},
   "source": [
    "Задание 1. Создайте двумерный массив 10x3, заполненный случайными значениями. В каждой строке выберите значение, наиболее близкое к 0.5.\n",
    "/\n"
   ]
  },
  {
   "cell_type": "code",
   "execution_count": 39,
   "metadata": {},
   "outputs": [
    {
     "name": "stdout",
     "output_type": "stream",
     "text": [
      "[[0.11815447 0.76919196 0.21609672]\n",
      " [0.26292264 0.34872781 0.57421806]\n",
      " [0.75485361 0.10353589 0.39382186]\n",
      " [0.07265081 0.39018811 0.92732115]\n",
      " [0.01157876 0.86117247 0.79936479]\n",
      " [0.45245624 0.78093916 0.95033983]\n",
      " [0.62081339 0.75797215 0.14010967]\n",
      " [0.19810024 0.23272905 0.41575911]\n",
      " [0.01851102 0.23596729 0.97358829]\n",
      " [0.82197329 0.14038252 0.11981229]]\n",
      "0.7691919647280492\n",
      "0.5742180560785768\n",
      "0.39382186339645275\n",
      "0.39018811195542913\n",
      "0.7993647935435636\n",
      "0.45245624385200456\n",
      "0.6208133855057624\n",
      "0.4157591121510593\n",
      "0.23596728895182328\n",
      "0.8219732858446926\n"
     ]
    }
   ],
   "source": [
    "import numpy as np\n",
    "mini = 1\n",
    "a = np.random.rand(10,3)\n",
    "print(a)\n",
    "for i in range(0,10):\n",
    "    for j in range(0,3):\n",
    "        raz = abs(a[i][j]-0.5)\n",
    "        if raz < mini:\n",
    "            mini = raz\n",
    "            ans = a[i][j]\n",
    "    print(ans)\n",
    "    mini = 1\n"
   ]
  },
  {
   "cell_type": "markdown",
   "metadata": {},
   "source": [
    "Задача 2. Создайте двумерный массив 6x6, заполненный случайными значениями. Затем сумму по каждой строке поделите на минимальный элемент из столбца с тем же индексом."
   ]
  },
  {
   "cell_type": "code",
   "execution_count": 48,
   "metadata": {},
   "outputs": [
    {
     "name": "stdout",
     "output_type": "stream",
     "text": [
      "[[0.94698331 0.62406696 0.45555502 0.41440666 0.37008377 0.27586969]\n",
      " [0.09758558 0.76771611 0.50690563 0.0373933  0.55997675 0.03742612]\n",
      " [0.54259203 0.87088877 0.69803296 0.18766456 0.18734526 0.70777456]\n",
      " [0.60522875 0.24540037 0.90101383 0.48378757 0.85457645 0.93115046]\n",
      " [0.72004473 0.69189945 0.85619371 0.02275415 0.80531382 0.24852657]\n",
      " [0.1656322  0.33754074 0.60624744 0.05270668 0.96530766 0.86859503]]\n",
      "минимальный элемент 1 строки: 31.633419119242966\n",
      "минимальный элемент 2 строки: 8.178485968124242\n",
      "минимальный элемент 3 строки: 7.011882219891689\n",
      "минимальный элемент 4 строки: 176.72194360811616\n",
      "минимальный элемент 5 строки: 17.853306655364158\n",
      "минимальный элемент 6 строки: 80.05183708668153\n"
     ]
    }
   ],
   "source": [
    "import numpy as np\n",
    "a = np.random.rand(6,6)\n",
    "print(a)\n",
    "s = 0\n",
    "mini = 1\n",
    "for i in range(0,6):\n",
    "    for j in range(0,6):\n",
    "        s += a[i][j]\n",
    "        if a[j][i] < mini:\n",
    "            mini = a[j][i]\n",
    "    print(\"минимальный элемент\", i+1, \"строки:\", s/mini)\n",
    "    mini = 1\n",
    "    s = 0"
   ]
  },
  {
   "cell_type": "markdown",
   "metadata": {},
   "source": [
    "Задача 3. На примере массива x = np.array([6, 2, 0, 3, 0, 0, 5, 7, 0]) найдите максимальный элемент в массиве среди элементов, перед которыми стоит ноль."
   ]
  },
  {
   "cell_type": "code",
   "execution_count": 65,
   "metadata": {},
   "outputs": [
    {
     "name": "stdout",
     "output_type": "stream",
     "text": [
      "[6 2 0 3 0 0 5 7 0]\n"
     ]
    },
    {
     "data": {
      "text/plain": [
       "5"
      ]
     },
     "execution_count": 65,
     "metadata": {},
     "output_type": "execute_result"
    }
   ],
   "source": [
    "import numpy as np\n",
    "x = np.array([6, 2, 0, 3, 0, 0, 5, 7, 0])\n",
    "print(x)\n",
    "max(x[i] for i in range(1,len(x)) if x[i-1]==0)"
   ]
  },
  {
   "cell_type": "markdown",
   "metadata": {},
   "source": [
    "Задача 4. Пусть заданы два массива x = np.ones(10) и i = np.array([0, 1, 2, 3, 5, 5, 5, 8]). Прибавьте единицу к тем элементам массива x, индексы которых указаны в массиве i. В случае, если некоторый индекс встретился в массиве i несколько раз, прибавьте к соответствующему элементу массива x число вхождений данного индекса в массив i."
   ]
  },
  {
   "cell_type": "code",
   "execution_count": 66,
   "metadata": {},
   "outputs": [
    {
     "name": "stdout",
     "output_type": "stream",
     "text": [
      "[2. 2. 2. 2. 1. 4. 1. 1. 2. 1.]\n"
     ]
    }
   ],
   "source": [
    "x = np.ones(10) \n",
    "i = np.array([0, 1, 2, 3, 5, 5, 5, 8])\n",
    "for j in range(0,len(i)):\n",
    "    x[i[j]]+=1;\n",
    "print(x)"
   ]
  },
  {
   "cell_type": "code",
   "execution_count": 230,
   "metadata": {},
   "outputs": [
    {
     "name": "stdout",
     "output_type": "stream",
     "text": [
      "(array([[ 64.85185185,   0.40740741,  46.18518519,  47.18518519,\n",
      "         46.40740741],\n",
      "       [122.        ,   0.49152542,  37.69491525,  68.11864407,\n",
      "         50.84745763],\n",
      "       [ 20.44736842,   0.39473684,  32.23684211,  24.39473684,\n",
      "         55.89473684],\n",
      "       [175.97959184,   0.44897959,  37.28571429,  94.24489796,\n",
      "         49.18367347]]), 295.24937562572353, array([[2.],\n",
      "       [2.],\n",
      "       [2.],\n",
      "       [2.],\n",
      "       [2.],\n",
      "       [2.],\n",
      "       [2.],\n",
      "       [2.],\n",
      "       [2.],\n",
      "       [2.],\n",
      "       [2.],\n",
      "       [2.],\n",
      "       [2.],\n",
      "       [2.],\n",
      "       [2.],\n",
      "       [2.],\n",
      "       [2.],\n",
      "       [2.],\n",
      "       [2.],\n",
      "       [2.],\n",
      "       [2.],\n",
      "       [2.],\n",
      "       [2.],\n",
      "       [2.],\n",
      "       [2.],\n",
      "       [2.],\n",
      "       [2.],\n",
      "       [2.],\n",
      "       [2.],\n",
      "       [2.],\n",
      "       [0.],\n",
      "       [2.],\n",
      "       [0.],\n",
      "       [2.],\n",
      "       [0.],\n",
      "       [2.],\n",
      "       [0.],\n",
      "       [2.],\n",
      "       [0.],\n",
      "       [2.],\n",
      "       [0.],\n",
      "       [2.],\n",
      "       [0.],\n",
      "       [2.],\n",
      "       [0.],\n",
      "       [2.],\n",
      "       [0.],\n",
      "       [0.],\n",
      "       [0.],\n",
      "       [0.],\n",
      "       [0.],\n",
      "       [0.],\n",
      "       [0.],\n",
      "       [0.],\n",
      "       [0.],\n",
      "       [0.],\n",
      "       [0.],\n",
      "       [0.],\n",
      "       [0.],\n",
      "       [0.],\n",
      "       [0.],\n",
      "       [0.],\n",
      "       [0.],\n",
      "       [0.],\n",
      "       [0.],\n",
      "       [0.],\n",
      "       [0.],\n",
      "       [0.],\n",
      "       [0.],\n",
      "       [0.],\n",
      "       [0.],\n",
      "       [0.],\n",
      "       [0.],\n",
      "       [0.],\n",
      "       [0.],\n",
      "       [0.],\n",
      "       [0.],\n",
      "       [0.],\n",
      "       [0.],\n",
      "       [0.],\n",
      "       [0.],\n",
      "       [0.],\n",
      "       [0.],\n",
      "       [0.],\n",
      "       [0.],\n",
      "       [0.],\n",
      "       [0.],\n",
      "       [0.],\n",
      "       [0.],\n",
      "       [0.],\n",
      "       [0.],\n",
      "       [1.],\n",
      "       [0.],\n",
      "       [1.],\n",
      "       [1.],\n",
      "       [1.],\n",
      "       [1.],\n",
      "       [1.],\n",
      "       [1.],\n",
      "       [1.],\n",
      "       [1.],\n",
      "       [1.],\n",
      "       [1.],\n",
      "       [1.],\n",
      "       [1.],\n",
      "       [1.],\n",
      "       [1.],\n",
      "       [1.],\n",
      "       [1.],\n",
      "       [1.],\n",
      "       [1.],\n",
      "       [1.],\n",
      "       [1.],\n",
      "       [1.],\n",
      "       [1.],\n",
      "       [1.],\n",
      "       [1.],\n",
      "       [1.],\n",
      "       [1.],\n",
      "       [1.],\n",
      "       [1.],\n",
      "       [1.],\n",
      "       [1.],\n",
      "       [1.],\n",
      "       [1.],\n",
      "       [1.],\n",
      "       [1.],\n",
      "       [1.],\n",
      "       [1.],\n",
      "       [1.],\n",
      "       [1.],\n",
      "       [1.],\n",
      "       [1.],\n",
      "       [1.],\n",
      "       [1.],\n",
      "       [1.],\n",
      "       [1.],\n",
      "       [1.],\n",
      "       [1.],\n",
      "       [1.],\n",
      "       [1.],\n",
      "       [1.],\n",
      "       [1.],\n",
      "       [1.],\n",
      "       [1.],\n",
      "       [1.],\n",
      "       [1.],\n",
      "       [1.],\n",
      "       [1.],\n",
      "       [1.],\n",
      "       [3.],\n",
      "       [1.],\n",
      "       [3.],\n",
      "       [3.],\n",
      "       [3.],\n",
      "       [3.],\n",
      "       [3.],\n",
      "       [3.],\n",
      "       [3.],\n",
      "       [3.],\n",
      "       [3.],\n",
      "       [3.],\n",
      "       [3.],\n",
      "       [3.],\n",
      "       [3.],\n",
      "       [3.],\n",
      "       [3.],\n",
      "       [3.],\n",
      "       [3.],\n",
      "       [3.],\n",
      "       [3.],\n",
      "       [3.],\n",
      "       [3.],\n",
      "       [3.],\n",
      "       [3.],\n",
      "       [3.],\n",
      "       [3.],\n",
      "       [3.],\n",
      "       [3.],\n",
      "       [3.],\n",
      "       [3.],\n",
      "       [3.],\n",
      "       [3.],\n",
      "       [3.],\n",
      "       [3.],\n",
      "       [3.],\n",
      "       [3.],\n",
      "       [3.],\n",
      "       [3.],\n",
      "       [3.],\n",
      "       [3.],\n",
      "       [3.],\n",
      "       [3.],\n",
      "       [3.],\n",
      "       [3.],\n",
      "       [3.],\n",
      "       [3.],\n",
      "       [3.],\n",
      "       [3.],\n",
      "       [3.]]))\n"
     ]
    }
   ],
   "source": [
    "import numpy as np\n",
    "url = 'https://raw.githubusercontent.com/sharmaroshan/Clustering-of-Mall-Customers/master/Mall_Customers.csv'\n",
    "data = np.loadtxt(url, delimiter=',', dtype=object, skiprows=1)\n",
    "        \n",
    "def euclidian(a, b):\n",
    "    return np.linalg.norm(a-b)\n",
    "\n",
    "def kmeans(obs, k , it =5, thresh= 0.000001 ):\n",
    "    vec, coord = obs.shape\n",
    "    a = obs[np.random.choice(len(obs[:,0]), k, replace = False)]\n",
    "    b = np.zeros(a.shape)\n",
    "    dist = euclidian(a,b)\n",
    "    cluster = np.zeros((vec,1))\n",
    "    i = 0\n",
    "    t = 0\n",
    "    distor = 0\n",
    "    distort = 0\n",
    "    temp = a\n",
    "    while (dist>thresh) and (i<it):\n",
    "        i+=1\n",
    "        dist = euclidian(a, b)\n",
    "        for in_elem, elem in enumerate(data1):\n",
    "            d_vec = np.zeros((k,1))\n",
    "            for in_centroid, centroid in enumerate(a):\n",
    "                d_vec[in_centroid] = euclidian(centroid,elem)\n",
    "            cluster[in_elem, 0] = np.argmin(d_vec)\n",
    "            \n",
    "        tmp = np.zeros((k, coord))\n",
    "\n",
    "        for j in range(len(a)):\n",
    "            elem_cluster = [l for l in range(len(cluster)) if cluster[l] == j]\n",
    "            centroid = np.mean(obs[elem_cluster], axis = 0)\n",
    "            for l in range(len(cluster)):\n",
    "                if cluster[l] == j:\n",
    "                    distor+= euclidian(obs[l], centroid)**2\n",
    "            distort+= distor/len(elem_cluster)\n",
    "           \n",
    "            tmp[j, :] = centroid\n",
    "            distor = 0\n",
    "            \n",
    "       \n",
    "        j = 0\n",
    "        l = 0\n",
    "        in_elem = 0\n",
    "        in_centroid = 0\n",
    "        b = a    \n",
    "        a = tmp\n",
    "        if (a==b).all():\n",
    "            distortion = distort/(k**2)\n",
    "        else:\n",
    "            if i == 5:\n",
    "                distortion = distort/(k**2)\n",
    "            else:\n",
    "                distort = 0\n",
    "        \n",
    "        elem_cluster = []\n",
    "        \n",
    "    return a, distortion, cluster #cluster nujen dlya 6 zadachi\n",
    "\n",
    "        \n",
    "\n",
    "for i in range(0,200):\n",
    "    for j in range(0,5):\n",
    "        if data[i][j] == 'Male':\n",
    "            data[i][j]=1\n",
    "        if data[i][j] == 'Female':\n",
    "            data[i][j]=0\n",
    "        data[i][j] = int(data[i][j])\n",
    "\n",
    "data1 = data[:300]\n",
    "k = np.random.randint(2,15)\n",
    "\n",
    "res = kmeans(data1, k)\n",
    "print(res)\n",
    "\n",
    "\n"
   ]
  },
  {
   "cell_type": "markdown",
   "metadata": {},
   "source": [
    "Задача 5. Написать функцию, реализующую алгоритм k-means. Входные и выходные значения функции должны быть аналогичны https://docs.scipy.org/doc/scipy-0.15.1/reference/generated/scipy.cluster.vq.kmeans.html. Функция должна содержать не более двух циклов while (for).\n"
   ]
  },
  {
   "cell_type": "markdown",
   "metadata": {},
   "source": [
    "Задача 6.  С помощью реализованной функции kmeans выделить кластеры клиентов в разрезах возраст-доход, возрвст-покупательский индекс, доход-покупательский индекс. В каждом случае использовать elbow method для определения оптимального числа кластеров. Визуализировать полученные кластеры (каждый кластер изобразить собственным цветом). Дать интерпретацию полученным кластерам."
   ]
  },
  {
   "cell_type": "code",
   "execution_count": 223,
   "metadata": {},
   "outputs": [],
   "source": [
    "ssd = []\n",
    "m = 0\n",
    "x = [i for i in range(0,200)]\n",
    "y = [2,3]\n",
    "data1[np.ix_(x,y)]\n",
    "for k in range (2, 10):\n",
    "    model = kmeans(data1, k)\n",
    "    ssd.append(model[1])\n",
    "    m+=1"
   ]
  },
  {
   "cell_type": "code",
   "execution_count": 224,
   "metadata": {},
   "outputs": [
    {
     "data": {
      "text/plain": [
       "Text(0,0.5,'Sum of Squared Distances')"
      ]
     },
     "execution_count": 224,
     "metadata": {},
     "output_type": "execute_result"
    },
    {
     "data": {
      "image/png": "[encoded data removed]",
      "text/plain": [
       "<Figure size 432x288 with 1 Axes>"
      ]
     },
     "metadata": {
      "needs_background": "light"
     },
     "output_type": "display_data"
    }
   ],
   "source": [
    "plt.plot(range(2,10), ssd, 'o--')\n",
    "plt.xlabel('K Value')\n",
    "plt.ylabel('Sum of Squared Distances')"
   ]
  },
  {
   "cell_type": "markdown",
   "metadata": {},
   "source": [
    "Для случая возраст доход оптимальное К = 4\n"
   ]
  },
  {
   "cell_type": "code",
   "execution_count": 248,
   "metadata": {},
   "outputs": [
    {
     "data": {
      "image/png": "[encoded data removed]",
      "text/plain": [
       "<Figure size 432x288 with 1 Axes>"
      ]
     },
     "metadata": {
      "needs_background": "light"
     },
     "output_type": "display_data"
    }
   ],
   "source": [
    "import numpy as np\n",
    "url = 'https://raw.githubusercontent.com/sharmaroshan/Clustering-of-Mall-Customers/master/Mall_Customers.csv'\n",
    "data = np.loadtxt(url, delimiter=',', dtype=object, skiprows=1)\n",
    "        \n",
    "def euclidian(a, b):\n",
    "    return np.linalg.norm(a-b)\n",
    "\n",
    "\n",
    "def plot(data1, cluster):\n",
    "    colors = ['r','g','b','y']\n",
    "    fig, ax = plt.subplots()\n",
    "    \n",
    "    for index in range(data1.shape[0]):\n",
    "        define = [i for i in range(len(cluster)) if cluster[i] == index]\n",
    "        for elem_index in define:\n",
    "            ax.plot(data1[elem_index][0], data1[elem_index][1], (colors[index] + 'o'))\n",
    "\n",
    "\n",
    "def kmeans(obs, k , it =5, thresh= 0.000001 ):\n",
    "    vec, coord = obs.shape\n",
    "    a = obs[np.random.choice(len(obs[:,0]), k, replace = False)]\n",
    "    b = np.zeros(a.shape)\n",
    "    dist = euclidian(a,b)\n",
    "    cluster = np.zeros((vec,1))\n",
    "    i = 0\n",
    "    t = 0\n",
    "    distor = 0\n",
    "    distort = 0\n",
    "    temp = a\n",
    "    while (dist>thresh) and (i<it):\n",
    "        i+=1\n",
    "        dist = euclidian(a, b)\n",
    "        for in_elem, elem in enumerate(data1):\n",
    "            d_vec = np.zeros((k,1))\n",
    "            for in_centroid, centroid in enumerate(a):\n",
    "                d_vec[in_centroid] = euclidian(centroid,elem)\n",
    "            cluster[in_elem, 0] = np.argmin(d_vec)\n",
    "            \n",
    "        tmp = np.zeros((k, coord))\n",
    "\n",
    "        for j in range(len(a)):\n",
    "            elem_cluster = [l for l in range(len(cluster)) if cluster[l] == j]\n",
    "            centroid = np.mean(obs[elem_cluster], axis = 0)\n",
    "            for l in range(len(cluster)):\n",
    "                if cluster[l] == j:\n",
    "                    distor+= euclidian(obs[l], centroid)**2\n",
    "            distort+= distor/len(elem_cluster)\n",
    "           \n",
    "            tmp[j, :] = centroid\n",
    "            distor = 0\n",
    "            \n",
    "       \n",
    "        j = 0\n",
    "        l = 0\n",
    "        in_elem = 0\n",
    "        in_centroid = 0\n",
    "        b = a    \n",
    "        a = tmp\n",
    "        if (a==b).all():\n",
    "            distortion = distort/(k**2)\n",
    "        else:\n",
    "            if i == 5:\n",
    "                distortion = distort/(k**2)\n",
    "            else:\n",
    "                distort = 0\n",
    "        \n",
    "        elem_cluster = []\n",
    "        \n",
    "    return a, distortion, cluster #cluster nujen dlya 6 zadachi\n",
    "\n",
    "        \n",
    "\n",
    "\n",
    "for i in range(0,200):\n",
    "    for j in range(0,5):\n",
    "        if data[i][j] == 'Male':\n",
    "            data[i][j]=1\n",
    "        if data[i][j] == 'Female':\n",
    "            data[i][j]=0\n",
    "        data[i][j] = int(data[i][j])\n",
    "\n",
    "data1 = data[:300]\n",
    "k = 4\n",
    "x = [i for i in range(0,200)]\n",
    "y = [2,3]\n",
    "res = kmeans(data1, k)\n",
    "result = plot (data1[np.ix_(x,y)], res[2])"
   ]
  },
  {
   "cell_type": "markdown",
   "metadata": {},
   "source": [
    "График в разрезе возраст доход, довольно красивый\n"
   ]
  },
  {
   "cell_type": "code",
   "execution_count": 200,
   "metadata": {},
   "outputs": [],
   "source": [
    "ssd = []\n",
    "m = 0\n",
    "x = [i for i in range(0,200)]\n",
    "y = [2,4]\n",
    "data1[np.ix_(x,y)]\n",
    "for k in range (2, 10):\n",
    "    model = kmeans(data1, k)\n",
    "    ssd.append(model[1])\n",
    "    m+=1"
   ]
  },
  {
   "cell_type": "code",
   "execution_count": 201,
   "metadata": {},
   "outputs": [
    {
     "data": {
      "text/plain": [
       "Text(0,0.5,'Sum of Squared Distances')"
      ]
     },
     "execution_count": 201,
     "metadata": {},
     "output_type": "execute_result"
    },
    {
     "data": {
      "image/png": "[encoded data removed]",
      "text/plain": [
       "<Figure size 432x288 with 1 Axes>"
      ]
     },
     "metadata": {
      "needs_background": "light"
     },
     "output_type": "display_data"
    }
   ],
   "source": [
    "plt.plot(range(2,10), ssd, 'o--')\n",
    "plt.xlabel('K Value')\n",
    "plt.ylabel('Sum of Squared Distances')"
   ]
  },
  {
   "cell_type": "markdown",
   "metadata": {},
   "source": [
    "Для случая возраст покупательный индекс оптимальное К = 4\n"
   ]
  },
  {
   "cell_type": "code",
   "execution_count": 272,
   "metadata": {},
   "outputs": [
    {
     "data": {
      "image/png": "[encoded data removed]",
      "text/plain": [
       "<Figure size 432x288 with 1 Axes>"
      ]
     },
     "metadata": {
      "needs_background": "light"
     },
     "output_type": "display_data"
    }
   ],
   "source": [
    "import numpy as np\n",
    "url = 'https://raw.githubusercontent.com/sharmaroshan/Clustering-of-Mall-Customers/master/Mall_Customers.csv'\n",
    "data = np.loadtxt(url, delimiter=',', dtype=object, skiprows=1)\n",
    "        \n",
    "def euclidian(a, b):\n",
    "    return np.linalg.norm(a-b)\n",
    "\n",
    "\n",
    "def plot(data1, cluster):\n",
    "    colors = ['r','g','b','y','c','m','k']\n",
    "    fig, ax = plt.subplots()\n",
    "    \n",
    "    for index in range(data1.shape[0]):\n",
    "        define = [i for i in range(len(cluster)) if cluster[i] == index]\n",
    "        for elem_index in define:\n",
    "            ax.plot(data1[elem_index][0], data1[elem_index][1], (colors[index] + 'o'))\n",
    "\n",
    "\n",
    "def kmeans(obs, k , it =5, thresh= 0.000001 ):\n",
    "    vec, coord = obs.shape\n",
    "    a = obs[np.random.choice(len(obs[:,0]), k, replace = False)]\n",
    "    b = np.zeros(a.shape)\n",
    "    dist = euclidian(a,b)\n",
    "    cluster = np.zeros((vec,1))\n",
    "    i = 0\n",
    "    t = 0\n",
    "    distor = 0\n",
    "    distort = 0\n",
    "    temp = a\n",
    "    while (dist>thresh) and (i<it):\n",
    "        i+=1\n",
    "        dist = euclidian(a, b)\n",
    "        for in_elem, elem in enumerate(data1):\n",
    "            d_vec = np.zeros((k,1))\n",
    "            for in_centroid, centroid in enumerate(a):\n",
    "                d_vec[in_centroid] = euclidian(centroid,elem)\n",
    "            cluster[in_elem, 0] = np.argmin(d_vec)\n",
    "            \n",
    "        tmp = np.zeros((k, coord))\n",
    "\n",
    "        for j in range(len(a)):\n",
    "            elem_cluster = [l for l in range(len(cluster)) if cluster[l] == j]\n",
    "            centroid = np.mean(obs[elem_cluster], axis = 0)\n",
    "            for l in range(len(cluster)):\n",
    "                if cluster[l] == j:\n",
    "                    distor+= euclidian(obs[l], centroid)**2\n",
    "            distort+= distor/len(elem_cluster)\n",
    "           \n",
    "            tmp[j, :] = centroid\n",
    "            distor = 0\n",
    "            \n",
    "       \n",
    "        j = 0\n",
    "        l = 0\n",
    "        in_elem = 0\n",
    "        in_centroid = 0\n",
    "        b = a    \n",
    "        a = tmp\n",
    "        if (a==b).all():\n",
    "            distortion = distort/(k**2)\n",
    "        else:\n",
    "            if i == 5:\n",
    "                distortion = distort/(k**2)\n",
    "            else:\n",
    "                distort = 0\n",
    "        \n",
    "        elem_cluster = []\n",
    "        \n",
    "    return a, distortion, cluster #cluster nujen dlya 6 zadachi\n",
    "\n",
    "        \n",
    "\n",
    "\n",
    "for i in range(0,200):\n",
    "    for j in range(0,5):\n",
    "        if data[i][j] == 'Male':\n",
    "            data[i][j]=1\n",
    "        if data[i][j] == 'Female':\n",
    "            data[i][j]=0\n",
    "        data[i][j] = int(data[i][j])\n",
    "\n",
    "data1 = data[:300]\n",
    "k = 4\n",
    "x = [i for i in range(0,200)]\n",
    "y = [2,4]\n",
    "res = kmeans(data1, k)\n",
    "result = plot (data1[np.ix_(x,y)], res[2])"
   ]
  },
  {
   "cell_type": "markdown",
   "metadata": {},
   "source": [
    "График в разрезе возраст покупательный индекс... какой-то некрасивый..."
   ]
  },
  {
   "cell_type": "code",
   "execution_count": 202,
   "metadata": {},
   "outputs": [],
   "source": [
    "ssd = []\n",
    "m = 0\n",
    "x = [i for i in range(0,200)]\n",
    "y = [3,4]\n",
    "data1[np.ix_(x,y)]\n",
    "for k in range (2, 10):\n",
    "    model = kmeans(data1, k)\n",
    "    ssd.append(model[1])\n",
    "    m+=1"
   ]
  },
  {
   "cell_type": "code",
   "execution_count": 203,
   "metadata": {},
   "outputs": [
    {
     "data": {
      "text/plain": [
       "Text(0,0.5,'Sum of Squared Distances')"
      ]
     },
     "execution_count": 203,
     "metadata": {},
     "output_type": "execute_result"
    },
    {
     "data": {
      "image/png": "[encoded data removed]",
      "text/plain": [
       "<Figure size 432x288 with 1 Axes>"
      ]
     },
     "metadata": {
      "needs_background": "light"
     },
     "output_type": "display_data"
    }
   ],
   "source": [
    "plt.plot(range(2,10), ssd, 'o--')\n",
    "plt.xlabel('K Value')\n",
    "plt.ylabel('Sum of Squared Distances')"
   ]
  },
  {
   "cell_type": "markdown",
   "metadata": {},
   "source": [
    "Для случая доход покупательный индекс оптимальное К = 3"
   ]
  },
  {
   "cell_type": "code",
   "execution_count": 267,
   "metadata": {},
   "outputs": [
    {
     "data": {
      "image/png": "[encoded data removed]",
      "text/plain": [
       "<Figure size 432x288 with 1 Axes>"
      ]
     },
     "metadata": {
      "needs_background": "light"
     },
     "output_type": "display_data"
    }
   ],
   "source": [
    "import numpy as np\n",
    "url = 'https://raw.githubusercontent.com/sharmaroshan/Clustering-of-Mall-Customers/master/Mall_Customers.csv'\n",
    "data = np.loadtxt(url, delimiter=',', dtype=object, skiprows=1)\n",
    "        \n",
    "def euclidian(a, b):\n",
    "    return np.linalg.norm(a-b)\n",
    "\n",
    "\n",
    "def plot(data1, cluster):\n",
    "    colors = ['r','g','b','y']\n",
    "    fig, ax = plt.subplots()\n",
    "    \n",
    "    for index in range(data1.shape[0]):\n",
    "        define = [i for i in range(len(cluster)) if cluster[i] == index]\n",
    "        for elem_index in define:\n",
    "            ax.plot(data1[elem_index][0], data1[elem_index][1], (colors[index] + 'o'))\n",
    "\n",
    "\n",
    "def kmeans(obs, k , it =5, thresh= 0.000001 ):\n",
    "    vec, coord = obs.shape\n",
    "    a = obs[np.random.choice(len(obs[:,0]), k, replace = False)]\n",
    "    b = np.zeros(a.shape)\n",
    "    dist = euclidian(a,b)\n",
    "    cluster = np.zeros((vec,1))\n",
    "    i = 0\n",
    "    t = 0\n",
    "    distor = 0\n",
    "    distort = 0\n",
    "    temp = a\n",
    "    while (dist>thresh) and (i<it):\n",
    "        i+=1\n",
    "        dist = euclidian(a, b)\n",
    "        for in_elem, elem in enumerate(data1):\n",
    "            d_vec = np.zeros((k,1))\n",
    "            for in_centroid, centroid in enumerate(a):\n",
    "                d_vec[in_centroid] = euclidian(centroid,elem)\n",
    "            cluster[in_elem, 0] = np.argmin(d_vec)\n",
    "            \n",
    "        tmp = np.zeros((k, coord))\n",
    "\n",
    "        for j in range(len(a)):\n",
    "            elem_cluster = [l for l in range(len(cluster)) if cluster[l] == j]\n",
    "            centroid = np.mean(obs[elem_cluster], axis = 0)\n",
    "            for l in range(len(cluster)):\n",
    "                if cluster[l] == j:\n",
    "                    distor+= euclidian(obs[l], centroid)**2\n",
    "            distort+= distor/len(elem_cluster)\n",
    "           \n",
    "            tmp[j, :] = centroid\n",
    "            distor = 0\n",
    "            \n",
    "       \n",
    "        j = 0\n",
    "        l = 0\n",
    "        in_elem = 0\n",
    "        in_centroid = 0\n",
    "        b = a    \n",
    "        a = tmp\n",
    "        if (a==b).all():\n",
    "            distortion = distort/(k**2)\n",
    "        else:\n",
    "            if i == 5:\n",
    "                distortion = distort/(k**2)\n",
    "            else:\n",
    "                distort = 0\n",
    "        \n",
    "        elem_cluster = []\n",
    "        \n",
    "    return a, distortion, cluster #cluster nujen dlya 6 zadachi\n",
    "\n",
    "        \n",
    "\n",
    "\n",
    "for i in range(0,200):\n",
    "    for j in range(0,5):\n",
    "        if data[i][j] == 'Male':\n",
    "            data[i][j]=1\n",
    "        if data[i][j] == 'Female':\n",
    "            data[i][j]=0\n",
    "        data[i][j] = int(data[i][j])\n",
    "\n",
    "data1 = data[:300]\n",
    "k = 3\n",
    "x = [i for i in range(0,200)]\n",
    "y = [3,4]\n",
    "res = kmeans(data1, k)\n",
    "result = plot (data1[np.ix_(x,y)], res[2])"
   ]
  },
  {
   "cell_type": "markdown",
   "metadata": {},
   "source": [
    "Сверху график в разрезе доход поступательный индекс. P.s. Я пытался написать отдельно функцию не перекидывая код из 5 задачи сюда, но мне выдавало очень много ошибок, непонятно с чем связаных, компилятор жаловался на присвоение типов str и float не туда, хотя все было туда."
   ]
  },
  {
   "cell_type": "code",
   "execution_count": null,
   "metadata": {},
   "outputs": [],
   "source": []
  }
 ],
 "metadata": {
  "kernelspec": {
   "display_name": "Python 3",
   "language": "python",
   "name": "python3"
  },
  "language_info": {
   "codemirror_mode": {
    "name": "ipython",
    "version": 3
   },
   "file_extension": ".py",
   "mimetype": "text/x-python",
   "name": "python",
   "nbconvert_exporter": "python",
   "pygments_lexer": "ipython3",
   "version": "3.7.0"
  }
 },
 "nbformat": 4,
 "nbformat_minor": 2
}
