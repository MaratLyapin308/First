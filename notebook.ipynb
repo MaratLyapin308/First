{
 "cells": [
  {
   "cell_type": "code",
   "execution_count": 29,
   "metadata": {},
   "outputs": [],
   "source": [
    "def count_true(lst):\n",
    "\tK=0\n",
    "\tfor i in lst:\n",
    "\t\tif i==True:\n",
    "\t\t\tK+=1\n",
    "\treturn(K)"
   ]
  },
  {
   "cell_type": "code",
   "execution_count": 30,
   "metadata": {},
   "outputs": [],
   "source": [
    "class Test:\n",
    "    @staticmethod\n",
    "    def assert_equals(a, b, *args, **kwargs):\n",
    "        assert a == b\n",
    "        print('Passed')"
   ]
  },
  {
   "cell_type": "markdown",
   "metadata": {},
   "source": [
    "Problem https://edabit.com/challenge/wFpi2zFGxWxfj5mZS (2 points)"
   ]
  },
  {
   "cell_type": "code",
   "execution_count": 31,
   "metadata": {},
   "outputs": [
    {
     "name": "stdout",
     "output_type": "stream",
     "text": [
      "Passed\n",
      "Passed\n",
      "Passed\n",
      "Passed\n",
      "Passed\n",
      "Passed\n",
      "Passed\n",
      "Passed\n",
      "Passed\n",
      "Passed\n",
      "Passed\n",
      "Passed\n",
      "Passed\n"
     ]
    }
   ],
   "source": [
    "Test.assert_equals(count_true([True, False, False, True, False]), 2)\n",
    "Test.assert_equals(count_true([False, False, False, False]), 0)\n",
    "Test.assert_equals(count_true([]), 0)\n",
    "Test.assert_equals(count_true([False, False, True, True, False, False, False, True, True, True, True, False, True, True, False]), 8)\n",
    "Test.assert_equals(count_true([True, False, True, True, False, False, False, False, False]), 3)\n",
    "Test.assert_equals(count_true([False, True, True, False, True, True, False, True, False, True, False, True, False, True, False]), 8)\n",
    "Test.assert_equals(count_true([True, False, True, True, True, False, True, True, False, False]), 6)\n",
    "Test.assert_equals(count_true([False, False, False, False, True, False, True, False, True, False, False]), 3)\n",
    "Test.assert_equals(count_true([True, False, False, False, True, False, False, True, False, False, False]), 3)\n",
    "Test.assert_equals(count_true([True, True, False, True, False, False, False, False, True, False]), 4)\n",
    "Test.assert_equals(count_true([True, False, True, True, False, True, True, True, True, False, True, False, True, False]), 9)\n",
    "Test.assert_equals(count_true([True, False, True, True, True, True, False, True, True, False, True, False, False, False, False]), 8)\n",
    "Test.assert_equals(count_true([True, True, False, False, False, False, True, False, True, True, False, True]), 6)"
   ]
  },
  {
   "cell_type": "code",
   "execution_count": 32,
   "metadata": {},
   "outputs": [],
   "source": [
    "def bitwise_and(n1, n2):\n",
    "\treturn(n1&n2)\n",
    "\n",
    "def bitwise_or(n1, n2):\n",
    "\treturn(n1|n2)\n",
    "\n",
    "def bitwise_xor(n1, n2):\n",
    "\treturn(n1^n2)"
   ]
  },
  {
   "cell_type": "markdown",
   "metadata": {},
   "source": [
    "Problem https://edabit.com/challenge/TiqTew3PcofZgdbR4 (1 Point)"
   ]
  },
  {
   "cell_type": "code",
   "execution_count": 33,
   "metadata": {},
   "outputs": [
    {
     "name": "stdout",
     "output_type": "stream",
     "text": [
      "Passed\n",
      "Passed\n",
      "Passed\n",
      "Passed\n",
      "Passed\n",
      "Passed\n",
      "Passed\n",
      "Passed\n",
      "Passed\n"
     ]
    }
   ],
   "source": [
    "Test.assert_equals(bitwise_and(7, 12), 4)\n",
    "Test.assert_equals(bitwise_or(7, 12), 15)\n",
    "Test.assert_equals(bitwise_xor(7, 12), 11)\n",
    "\n",
    "Test.assert_equals(bitwise_and(32, 17), 0)\n",
    "Test.assert_equals(bitwise_or(32, 17), 49)\n",
    "Test.assert_equals(bitwise_xor(32, 17), 49)\n",
    "\n",
    "Test.assert_equals(bitwise_and(13, 19), 1)\n",
    "Test.assert_equals(bitwise_or(13, 19), 31)\n",
    "Test.assert_equals(bitwise_xor(13, 19), 30)"
   ]
  },
  {
   "cell_type": "code",
   "execution_count": 34,
   "metadata": {},
   "outputs": [],
   "source": [
    "def seven_boom(lst):\n",
    "\t\tif '7' in str(lst):\n",
    "\t\t\treturn(\"Boom!\")\n",
    "\t\telse:\n",
    "\t\t\treturn(\"there is no 7 in the list\")"
   ]
  },
  {
   "cell_type": "markdown",
   "metadata": {},
   "source": [
    "Problem https://edabit.com/challenge/BokhFunYBvsvHEjfx (3 points)"
   ]
  },
  {
   "cell_type": "code",
   "execution_count": 35,
   "metadata": {},
   "outputs": [
    {
     "name": "stdout",
     "output_type": "stream",
     "text": [
      "Passed\n",
      "Passed\n",
      "Passed\n",
      "Passed\n",
      "Passed\n"
     ]
    }
   ],
   "source": [
    "Test.assert_equals(seven_boom([2, 6, 7, 9, 3]), \"Boom!\")\n",
    "Test.assert_equals(seven_boom([33, 68, 400, 5]), \"there is no 7 in the list\")\n",
    "Test.assert_equals(seven_boom([86, 48, 100, 66]), \"there is no 7 in the list\")\n",
    "Test.assert_equals(seven_boom([76, 55, 44, 32]), \"Boom!\")\n",
    "Test.assert_equals(seven_boom([35, 4, 9, 37]), \"Boom!\")"
   ]
  },
  {
   "cell_type": "code",
   "execution_count": 36,
   "metadata": {},
   "outputs": [],
   "source": [
    "def does_triangle_fit(brick, hole):\n",
    "\tbrick.sort()\n",
    "\thole.sort()\n",
    "\tfor i in range(0,3):\n",
    "\t\tif brick[i]>hole[i]:\n",
    "\t\t\treturn(False)\n",
    "\tif brick[0]+brick[1]<brick[2]:\n",
    "\t\treturn(False)\n",
    "\tif hole[0]+hole[1]<hole[2]:\n",
    "\t\treturn(False)\n",
    "\treturn(True)"
   ]
  },
  {
   "cell_type": "markdown",
   "metadata": {},
   "source": [
    "Problem https://edabit.com/challenge/dRA9E9HxJdbuB4yCx (4 points)"
   ]
  },
  {
   "cell_type": "code",
   "execution_count": 38,
   "metadata": {},
   "outputs": [
    {
     "name": "stdout",
     "output_type": "stream",
     "text": [
      "Passed\n",
      "Passed\n",
      "Passed\n",
      "Passed\n",
      "Passed\n",
      "Passed\n"
     ]
    }
   ],
   "source": [
    "Test.assert_equals(does_triangle_fit([1, 1, 1], [1, 1, 1]), True, \"Same triangle\")\n",
    "Test.assert_equals(does_triangle_fit([1, 1, 1], [2, 2, 2]), True, \"Smaller triangle\")\n",
    "Test.assert_equals(does_triangle_fit([1, 6, 8], [1, 6, 8]), False, \"Not a triangle\")\n",
    "Test.assert_equals(does_triangle_fit([12, 63, 42], [1, 6, 8]), False, \"too small hole\")\n",
    "Test.assert_equals(does_triangle_fit([3, 6, 8], [23, 63, 42]), True, \"Hole is too big\")\n",
    "Test.assert_equals(does_triangle_fit([3, 6, 8], [1, 10, 8]), False, \"impossible hole\")"
   ]
  },
  {
   "cell_type": "code",
   "execution_count": 39,
   "metadata": {},
   "outputs": [],
   "source": [
    "def longest_nonrepeating_substring(txt):\n",
    "\ts,t = \"\",\"\"\n",
    "\tfor elem in txt:\n",
    "\t\tif elem in s:\n",
    "\t\t\ts = s[s.index(elem)+1:]\n",
    "\t\ts += elem\n",
    "\t\tif len(s) > len(t):\n",
    "\t\t\tt = s\n",
    "\treturn t\n"
   ]
  },
  {
   "cell_type": "markdown",
   "metadata": {},
   "source": [
    "Problem https://edabit.com/challenge/58RNhygGNrKjPXwna (5 points)"
   ]
  },
  {
   "cell_type": "code",
   "execution_count": 40,
   "metadata": {},
   "outputs": [
    {
     "name": "stdout",
     "output_type": "stream",
     "text": [
      "Passed\n",
      "Passed\n",
      "Passed\n",
      "Passed\n",
      "Passed\n",
      "Passed\n",
      "Passed\n",
      "Passed\n",
      "Passed\n",
      "Passed\n",
      "Passed\n",
      "Passed\n",
      "Passed\n",
      "Passed\n",
      "Passed\n",
      "Passed\n",
      "Passed\n"
     ]
    }
   ],
   "source": [
    "Test.assert_equals(longest_nonrepeating_substring(\"abcabcbb\"), \"abc\")\n",
    "Test.assert_equals(longest_nonrepeating_substring(\"aaaaaa\"), \"a\")\n",
    "Test.assert_equals(longest_nonrepeating_substring(\"abcde\"), \"abcde\")\n",
    "Test.assert_equals(longest_nonrepeating_substring(\"abcda\"), \"abcd\")\n",
    "Test.assert_equals(longest_nonrepeating_substring(\"aaccddeeffb\"), \"ac\")\n",
    "Test.assert_equals(longest_nonrepeating_substring(\"abdde\"), \"abd\")\n",
    "Test.assert_equals(longest_nonrepeating_substring(\"ccdddcccc\"), \"cd\")\n",
    "Test.assert_equals(longest_nonrepeating_substring(\"cdxdxccxc\"), \"cdx\")\n",
    "Test.assert_equals(longest_nonrepeating_substring(\"abddefgh\"), \"defgh\")\n",
    "Test.assert_equals(longest_nonrepeating_substring(\"abcdabcd\"), \"abcd\")\n",
    "Test.assert_equals(longest_nonrepeating_substring(\"abddebcc\"), \"debc\")\n",
    "Test.assert_equals(longest_nonrepeating_substring(\"xyxxyzyzy\"), \"xyz\")\n",
    "Test.assert_equals(longest_nonrepeating_substring(\"kjlmjsdeee\"), \"lmjsde\")\n",
    "Test.assert_equals(longest_nonrepeating_substring(\"kjlmjsdfew\"), \"lmjsdfew\")\n",
    "Test.assert_equals(longest_nonrepeating_substring(\"kjlmjsdfewii\"), \"lmjsdfewi\")\n",
    "Test.assert_equals(longest_nonrepeating_substring(\"kjlmjjiiiidfewii\"), \"idfew\")\n",
    "Test.assert_equals(longest_nonrepeating_substring(\"kjlmjjiiiidfiwii\"), \"kjlm\")"
   ]
  },
  {
   "cell_type": "code",
   "execution_count": null,
   "metadata": {},
   "outputs": [],
   "source": []
  },
  {
   "cell_type": "code",
   "execution_count": null,
   "metadata": {},
   "outputs": [],
   "source": []
  },
  {
   "cell_type": "code",
   "execution_count": null,
   "metadata": {},
   "outputs": [],
   "source": []
  }
 ],
 "metadata": {
  "kernelspec": {
   "display_name": "Python 3",
   "language": "python",
   "name": "python3"
  },
  "language_info": {
   "codemirror_mode": {
    "name": "ipython",
    "version": 3
   },
   "file_extension": ".py",
   "mimetype": "text/x-python",
   "name": "python",
   "nbconvert_exporter": "python",
   "pygments_lexer": "ipython3",
   "version": "3.7.0"
  }
 },
 "nbformat": 4,
 "nbformat_minor": 2
}
